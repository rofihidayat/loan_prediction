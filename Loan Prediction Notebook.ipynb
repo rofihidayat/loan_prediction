{
 "cells": [
  {
   "cell_type": "markdown",
   "metadata": {},
   "source": [
    "<h1>Prediksi Peminjaman Uang</h1>\n",
    "\n",
    "Sumber dataset: <a href=\"https://datahack.analyticsvidhya.com/contest/practice-problem-loan-prediction-iii/\">Analytics Vidhya</a>\n",
    "<br><br>\n",
    "Dataset ini adalah untuk klasifikasi apakan seorang aplikan layak diberikan pinjaman bank atau tidak, dengan atribut sebagai berikut:\n",
    "<li><b>Jenis kelamin</b></li>\n",
    "<li><b>Status pernikahan</b></li>\n",
    "<li><b>Jumlah anggota keluarga</b></li>\n",
    "<li><b>Pendidikan terakhir</b></li>\n",
    "<li><b>Status pekerjaan</b></li>\n",
    "<li><b>Pendapatan aplikan</b></li>\n",
    "<li><b>Pendapatan ko-aplikan</b></li>\n",
    "<li><b>Jumlah peminjaman (ribuan)</b></li>\n",
    "<li><b>Durasi peminjaman (bulan)</b></li>\n",
    "<li><b>Sejarah kredit</b></li>\n",
    "<li><b>Daerah tempat tinggal</b></li>\n",
    "<br>\n",
    "Dengan tujuan kelas: <b>aplikasi diterima (Y)</b> atau <b>aplikasi tidak diterima (N)</b>"
   ]
  },
  {
   "cell_type": "markdown",
   "metadata": {},
   "source": [
    "<h3>Informasi Dataset</h3>"
   ]
  },
  {
   "cell_type": "code",
   "execution_count": 1,
   "metadata": {},
   "outputs": [],
   "source": [
    "import pandas as pd\n",
    "import matplotlib.pyplot as plt\n",
    "%matplotlib inline"
   ]
  },
  {
   "cell_type": "code",
   "execution_count": 2,
   "metadata": {},
   "outputs": [
    {
     "data": {
      "text/html": [
       "<div>\n",
       "<style scoped>\n",
       "    .dataframe tbody tr th:only-of-type {\n",
       "        vertical-align: middle;\n",
       "    }\n",
       "\n",
       "    .dataframe tbody tr th {\n",
       "        vertical-align: top;\n",
       "    }\n",
       "\n",
       "    .dataframe thead th {\n",
       "        text-align: right;\n",
       "    }\n",
       "</style>\n",
       "<table border=\"1\" class=\"dataframe\">\n",
       "  <thead>\n",
       "    <tr style=\"text-align: right;\">\n",
       "      <th></th>\n",
       "      <th>Loan_ID</th>\n",
       "      <th>Gender</th>\n",
       "      <th>Married</th>\n",
       "      <th>Dependents</th>\n",
       "      <th>Education</th>\n",
       "      <th>Self_Employed</th>\n",
       "      <th>ApplicantIncome</th>\n",
       "      <th>CoapplicantIncome</th>\n",
       "      <th>LoanAmount</th>\n",
       "      <th>Loan_Amount_Term</th>\n",
       "      <th>Credit_History</th>\n",
       "      <th>Property_Area</th>\n",
       "      <th>Loan_Status</th>\n",
       "    </tr>\n",
       "  </thead>\n",
       "  <tbody>\n",
       "    <tr>\n",
       "      <th>0</th>\n",
       "      <td>LP001002</td>\n",
       "      <td>Male</td>\n",
       "      <td>No</td>\n",
       "      <td>0</td>\n",
       "      <td>Graduate</td>\n",
       "      <td>No</td>\n",
       "      <td>5849</td>\n",
       "      <td>0.0</td>\n",
       "      <td>NaN</td>\n",
       "      <td>360.0</td>\n",
       "      <td>1.0</td>\n",
       "      <td>Urban</td>\n",
       "      <td>Y</td>\n",
       "    </tr>\n",
       "    <tr>\n",
       "      <th>1</th>\n",
       "      <td>LP001003</td>\n",
       "      <td>Male</td>\n",
       "      <td>Yes</td>\n",
       "      <td>1</td>\n",
       "      <td>Graduate</td>\n",
       "      <td>No</td>\n",
       "      <td>4583</td>\n",
       "      <td>1508.0</td>\n",
       "      <td>128.0</td>\n",
       "      <td>360.0</td>\n",
       "      <td>1.0</td>\n",
       "      <td>Rural</td>\n",
       "      <td>N</td>\n",
       "    </tr>\n",
       "    <tr>\n",
       "      <th>2</th>\n",
       "      <td>LP001005</td>\n",
       "      <td>Male</td>\n",
       "      <td>Yes</td>\n",
       "      <td>0</td>\n",
       "      <td>Graduate</td>\n",
       "      <td>Yes</td>\n",
       "      <td>3000</td>\n",
       "      <td>0.0</td>\n",
       "      <td>66.0</td>\n",
       "      <td>360.0</td>\n",
       "      <td>1.0</td>\n",
       "      <td>Urban</td>\n",
       "      <td>Y</td>\n",
       "    </tr>\n",
       "    <tr>\n",
       "      <th>3</th>\n",
       "      <td>LP001006</td>\n",
       "      <td>Male</td>\n",
       "      <td>Yes</td>\n",
       "      <td>0</td>\n",
       "      <td>Not Graduate</td>\n",
       "      <td>No</td>\n",
       "      <td>2583</td>\n",
       "      <td>2358.0</td>\n",
       "      <td>120.0</td>\n",
       "      <td>360.0</td>\n",
       "      <td>1.0</td>\n",
       "      <td>Urban</td>\n",
       "      <td>Y</td>\n",
       "    </tr>\n",
       "    <tr>\n",
       "      <th>4</th>\n",
       "      <td>LP001008</td>\n",
       "      <td>Male</td>\n",
       "      <td>No</td>\n",
       "      <td>0</td>\n",
       "      <td>Graduate</td>\n",
       "      <td>No</td>\n",
       "      <td>6000</td>\n",
       "      <td>0.0</td>\n",
       "      <td>141.0</td>\n",
       "      <td>360.0</td>\n",
       "      <td>1.0</td>\n",
       "      <td>Urban</td>\n",
       "      <td>Y</td>\n",
       "    </tr>\n",
       "  </tbody>\n",
       "</table>\n",
       "</div>"
      ],
      "text/plain": [
       "    Loan_ID Gender Married Dependents     Education Self_Employed  \\\n",
       "0  LP001002   Male      No          0      Graduate            No   \n",
       "1  LP001003   Male     Yes          1      Graduate            No   \n",
       "2  LP001005   Male     Yes          0      Graduate           Yes   \n",
       "3  LP001006   Male     Yes          0  Not Graduate            No   \n",
       "4  LP001008   Male      No          0      Graduate            No   \n",
       "\n",
       "   ApplicantIncome  CoapplicantIncome  LoanAmount  Loan_Amount_Term  \\\n",
       "0             5849                0.0         NaN             360.0   \n",
       "1             4583             1508.0       128.0             360.0   \n",
       "2             3000                0.0        66.0             360.0   \n",
       "3             2583             2358.0       120.0             360.0   \n",
       "4             6000                0.0       141.0             360.0   \n",
       "\n",
       "   Credit_History Property_Area Loan_Status  \n",
       "0             1.0         Urban           Y  \n",
       "1             1.0         Rural           N  \n",
       "2             1.0         Urban           Y  \n",
       "3             1.0         Urban           Y  \n",
       "4             1.0         Urban           Y  "
      ]
     },
     "execution_count": 2,
     "metadata": {},
     "output_type": "execute_result"
    }
   ],
   "source": [
    "dataTrain = pd.read_csv('train.csv')\n",
    "dataTrain.head()"
   ]
  },
  {
   "cell_type": "code",
   "execution_count": 3,
   "metadata": {},
   "outputs": [
    {
     "name": "stdout",
     "output_type": "stream",
     "text": [
      "Ukuran data :  (614, 13)\n",
      "Jumlah data :  614\n",
      "Jumlah fitur:  13\n"
     ]
    }
   ],
   "source": [
    "print(\"Ukuran data : \", dataTrain.shape)\n",
    "print(\"Jumlah data : \", len(dataTrain))\n",
    "print(\"Jumlah fitur: \", len(dataTrain.columns))"
   ]
  },
  {
   "cell_type": "code",
   "execution_count": 4,
   "metadata": {},
   "outputs": [
    {
     "data": {
      "image/png": "[encoded data removed]",
      "text/plain": [
       "<Figure size 720x432 with 1 Axes>"
      ]
     },
     "metadata": {},
     "output_type": "display_data"
    }
   ],
   "source": [
    "approved = dataTrain[dataTrain['Loan_Status'] == 'Y']['Loan_Amount_Term'].value_counts()\n",
    "unapproved = dataTrain[dataTrain['Loan_Status'] == 'N']['Loan_Amount_Term'].value_counts()\n",
    "loan_stat = pd.DataFrame([approved, unapproved], index=['Diterima', 'Tidak Diterima'])\n",
    "loan_stat.plot(kind='bar', stacked=True, figsize=(10, 6))\n",
    "plt.title('Statistik Jumlah Aplikasi yang Diterima dan Tidak Diterima')\n",
    "plt.ylabel('Jumlah Aplikasi')\n",
    "plt.show()"
   ]
  },
  {
   "cell_type": "markdown",
   "metadata": {},
   "source": [
    "<h3><i>Missing Values</i></h3>\n",
    "\n",
    "Beberapa data memiliki nilai yang hilang (<i>missing value</i>). Berikut rincian jumlah baris yang memiliki nilai yang hilang."
   ]
  },
  {
   "cell_type": "code",
   "execution_count": 5,
   "metadata": {},
   "outputs": [
    {
     "data": {
      "text/plain": [
       "Loan_ID               0\n",
       "Gender               13\n",
       "Married               3\n",
       "Dependents           15\n",
       "Education             0\n",
       "Self_Employed        32\n",
       "ApplicantIncome       0\n",
       "CoapplicantIncome     0\n",
       "LoanAmount           22\n",
       "Loan_Amount_Term     14\n",
       "Credit_History       50\n",
       "Property_Area         0\n",
       "Loan_Status           0\n",
       "dtype: int64"
      ]
     },
     "execution_count": 5,
     "metadata": {},
     "output_type": "execute_result"
    }
   ],
   "source": [
    "dataTrain.isnull().sum()"
   ]
  },
  {
   "cell_type": "markdown",
   "metadata": {},
   "source": [
    "Total ada 150 <i>cell</i> yang memiliki nilai yang hilang dan dan tersebar pada tujuh atribut. Terdapat tiga cara untuk berurusan dengan nilai yang hilang: tidak melakukan apa-apa, menghapus baris, atau mengisi nilai. Berurusan dengan nilai ini sangat dipengaruhi oleh pengetahuan data analis pada ranah yang bersangkutan. Untuk informasi lebih lanjut, dapat dilihat pada <a href=\"https://towardsdatascience.com/how-to-handle-missing-data-8646b18db0d4\">artikel ini</a>.\n",
    "\n",
    "Perlu diketahui, penulis kurang memiliki pengetahuan terkait peminjaman bank. Pengapusan dan pengisian nilai yang akan dilakukan berikut dilakukan secara subjektif menurut intuisi penulis.\n",
    "\n",
    "Credit_History sepertinya akan sangat mempengaruhi status penerimaan aplikan. Oleh karena itu, sangat tidak bijak jika mengisinya dengan nilai tertentu. Jadi, sampel yang memiliki nilai yang hilang pada kolom <b>Credit_History akan dihapus</b>.\n",
    "\n",
    "Terkait enam atribut lainnya, akan diisi dengan rata-rata atau modus, sesuai dengan tipe data. <b>Gender, Married, Dependents, Self_Employed, dan Loan_Amount_Term akan diisi dengan modus</b>. Sementara <b>LoanAmount akan diisi dengan rata-rata</b>."
   ]
  },
  {
   "cell_type": "code",
   "execution_count": 6,
   "metadata": {},
   "outputs": [
    {
     "name": "stdout",
     "output_type": "stream",
     "text": [
      "Modus Gender          : Male\n",
      "Modus Married         : Yes\n",
      "Modus Dependents      : 0\n",
      "Modus Self_Employed   : No\n",
      "Modus Loan_Amount_Term: 360\n",
      "Rata-rata LoanAmount  : 145\n"
     ]
    }
   ],
   "source": [
    "dataTrain = dataTrain.dropna(subset=['Credit_History'])\n",
    "\n",
    "gender_mode = dataTrain.mode()['Gender'][0]\n",
    "married_mode = dataTrain.mode()['Married'][0]\n",
    "dependents_mode = dataTrain.mode()['Dependents'][0]\n",
    "self_employed_mode = dataTrain.mode()['Self_Employed'][0]\n",
    "loan_amount_term_mode = dataTrain.mode()['Loan_Amount_Term'][0]\n",
    "loan_amount_mean = dataTrain['LoanAmount'].mean()\n",
    "\n",
    "print(\"Modus Gender          :\", gender_mode)\n",
    "print(\"Modus Married         :\", married_mode)\n",
    "print(\"Modus Dependents      :\", dependents_mode)\n",
    "print(\"Modus Self_Employed   :\", self_employed_mode)\n",
    "print(\"Modus Loan_Amount_Term: %d\" % loan_amount_term_mode)\n",
    "print(\"Rata-rata LoanAmount  : %.0f\" % loan_amount_mean)"
   ]
  },
  {
   "cell_type": "code",
   "execution_count": 7,
   "metadata": {},
   "outputs": [
    {
     "name": "stdout",
     "output_type": "stream",
     "text": [
      "Ukuran data menjadi : (564, 13)\n",
      "Jumlah data menjadi : 564\n"
     ]
    }
   ],
   "source": [
    "dataTrain[['Gender']] = dataTrain[['Gender']].fillna(gender_mode)\n",
    "dataTrain[['Married']] = dataTrain[['Married']].fillna(married_mode)\n",
    "dataTrain[['Dependents']] = dataTrain[['Dependents']].fillna(dependents_mode)\n",
    "dataTrain[['Self_Employed']] = dataTrain[['Self_Employed']].fillna(self_employed_mode)\n",
    "dataTrain[['Loan_Amount_Term']] = dataTrain[['Loan_Amount_Term']].fillna(loan_amount_term_mode)\n",
    "dataTrain[['LoanAmount']] = dataTrain[['LoanAmount']].fillna(loan_amount_mean)\n",
    "\n",
    "print(\"Ukuran data menjadi :\", dataTrain.shape)\n",
    "print(\"Jumlah data menjadi :\", len(dataTrain))"
   ]
  },
  {
   "cell_type": "markdown",
   "metadata": {},
   "source": [
    "<h3>Konversi Tipe Data</h3>\n",
    "\n",
    "Beberapa attribut memiliki tipe data kategorikal, misalnya Gender bernilai ('Male' atau 'Female'), Property_Area bernilai ('Urban', 'Semiurban', atau 'Rural'). Model <i>machine learning</i> tidak bisa memproses informasi ini, sehingga perlu dilakukan <i>encoding</i> atau konversi tipe data menjadi numerik."
   ]
  },
  {
   "cell_type": "code",
   "execution_count": 8,
   "metadata": {},
   "outputs": [
    {
     "data": {
      "text/html": [
       "<div>\n",
       "<style scoped>\n",
       "    .dataframe tbody tr th:only-of-type {\n",
       "        vertical-align: middle;\n",
       "    }\n",
       "\n",
       "    .dataframe tbody tr th {\n",
       "        vertical-align: top;\n",
       "    }\n",
       "\n",
       "    .dataframe thead th {\n",
       "        text-align: right;\n",
       "    }\n",
       "</style>\n",
       "<table border=\"1\" class=\"dataframe\">\n",
       "  <thead>\n",
       "    <tr style=\"text-align: right;\">\n",
       "      <th></th>\n",
       "      <th>Loan_ID</th>\n",
       "      <th>Gender</th>\n",
       "      <th>Married</th>\n",
       "      <th>Dependents</th>\n",
       "      <th>Education</th>\n",
       "      <th>Self_Employed</th>\n",
       "      <th>ApplicantIncome</th>\n",
       "      <th>CoapplicantIncome</th>\n",
       "      <th>LoanAmount</th>\n",
       "      <th>Loan_Amount_Term</th>\n",
       "      <th>Credit_History</th>\n",
       "      <th>Property_Area</th>\n",
       "      <th>Loan_Status</th>\n",
       "    </tr>\n",
       "  </thead>\n",
       "  <tbody>\n",
       "    <tr>\n",
       "      <th>0</th>\n",
       "      <td>LP001002</td>\n",
       "      <td>Male</td>\n",
       "      <td>No</td>\n",
       "      <td>0</td>\n",
       "      <td>Graduate</td>\n",
       "      <td>No</td>\n",
       "      <td>5849</td>\n",
       "      <td>0.0</td>\n",
       "      <td>145.088398</td>\n",
       "      <td>360.0</td>\n",
       "      <td>1.0</td>\n",
       "      <td>Urban</td>\n",
       "      <td>Y</td>\n",
       "    </tr>\n",
       "    <tr>\n",
       "      <th>1</th>\n",
       "      <td>LP001003</td>\n",
       "      <td>Male</td>\n",
       "      <td>Yes</td>\n",
       "      <td>1</td>\n",
       "      <td>Graduate</td>\n",
       "      <td>No</td>\n",
       "      <td>4583</td>\n",
       "      <td>1508.0</td>\n",
       "      <td>128.000000</td>\n",
       "      <td>360.0</td>\n",
       "      <td>1.0</td>\n",
       "      <td>Rural</td>\n",
       "      <td>N</td>\n",
       "    </tr>\n",
       "    <tr>\n",
       "      <th>2</th>\n",
       "      <td>LP001005</td>\n",
       "      <td>Male</td>\n",
       "      <td>Yes</td>\n",
       "      <td>0</td>\n",
       "      <td>Graduate</td>\n",
       "      <td>Yes</td>\n",
       "      <td>3000</td>\n",
       "      <td>0.0</td>\n",
       "      <td>66.000000</td>\n",
       "      <td>360.0</td>\n",
       "      <td>1.0</td>\n",
       "      <td>Urban</td>\n",
       "      <td>Y</td>\n",
       "    </tr>\n",
       "    <tr>\n",
       "      <th>3</th>\n",
       "      <td>LP001006</td>\n",
       "      <td>Male</td>\n",
       "      <td>Yes</td>\n",
       "      <td>0</td>\n",
       "      <td>Not Graduate</td>\n",
       "      <td>No</td>\n",
       "      <td>2583</td>\n",
       "      <td>2358.0</td>\n",
       "      <td>120.000000</td>\n",
       "      <td>360.0</td>\n",
       "      <td>1.0</td>\n",
       "      <td>Urban</td>\n",
       "      <td>Y</td>\n",
       "    </tr>\n",
       "    <tr>\n",
       "      <th>4</th>\n",
       "      <td>LP001008</td>\n",
       "      <td>Male</td>\n",
       "      <td>No</td>\n",
       "      <td>0</td>\n",
       "      <td>Graduate</td>\n",
       "      <td>No</td>\n",
       "      <td>6000</td>\n",
       "      <td>0.0</td>\n",
       "      <td>141.000000</td>\n",
       "      <td>360.0</td>\n",
       "      <td>1.0</td>\n",
       "      <td>Urban</td>\n",
       "      <td>Y</td>\n",
       "    </tr>\n",
       "  </tbody>\n",
       "</table>\n",
       "</div>"
      ],
      "text/plain": [
       "    Loan_ID Gender Married Dependents     Education Self_Employed  \\\n",
       "0  LP001002   Male      No          0      Graduate            No   \n",
       "1  LP001003   Male     Yes          1      Graduate            No   \n",
       "2  LP001005   Male     Yes          0      Graduate           Yes   \n",
       "3  LP001006   Male     Yes          0  Not Graduate            No   \n",
       "4  LP001008   Male      No          0      Graduate            No   \n",
       "\n",
       "   ApplicantIncome  CoapplicantIncome  LoanAmount  Loan_Amount_Term  \\\n",
       "0             5849                0.0  145.088398             360.0   \n",
       "1             4583             1508.0  128.000000             360.0   \n",
       "2             3000                0.0   66.000000             360.0   \n",
       "3             2583             2358.0  120.000000             360.0   \n",
       "4             6000                0.0  141.000000             360.0   \n",
       "\n",
       "   Credit_History Property_Area Loan_Status  \n",
       "0             1.0         Urban           Y  \n",
       "1             1.0         Rural           N  \n",
       "2             1.0         Urban           Y  \n",
       "3             1.0         Urban           Y  \n",
       "4             1.0         Urban           Y  "
      ]
     },
     "execution_count": 8,
     "metadata": {},
     "output_type": "execute_result"
    }
   ],
   "source": [
    "dataTrain.head()"
   ]
  },
  {
   "cell_type": "code",
   "execution_count": 9,
   "metadata": {},
   "outputs": [],
   "source": [
    "# Fungsi untuk mengubah Loan_Amount_Term\n",
    "def set_term(row):\n",
    "    if row['Loan_Amount_Term'] <= 60: # jangka sangat pendek\n",
    "        return 1\n",
    "    elif (row['Loan_Amount_Term'] > 60) and (row['Loan_Amount_Term'] < 180): # jangka pendek\n",
    "        return 2\n",
    "    elif (row['Loan_Amount_Term'] >= 180 ) and (row['Loan_Amount_Term'] <= 300): # jangka panjang\n",
    "        return 3\n",
    "    elif row['Loan_Amount_Term'] > 60: # jangka sangat panjang\n",
    "        return 4\n",
    "    else:\n",
    "        return 0"
   ]
  },
  {
   "cell_type": "code",
   "execution_count": 10,
   "metadata": {},
   "outputs": [],
   "source": [
    "# Ubah Gender, Male = 1, Female = 1\n",
    "dataTrain['Gender'] = dataTrain['Gender'].map({'Male':1,'Female':0})\n",
    "\n",
    "# Ubah Married, Yes = 1, No = 0\n",
    "dataTrain['Married'] = dataTrain['Married'].map({'Yes':1,'No':0})\n",
    "\n",
    "# Ubah Dependents, 0 = 0, 1 = 1, 2 = 2, 3+ = 3\n",
    "dataTrain.loc[dataTrain['Dependents'] == '0', 'Dependents'] = 0 # no dependents\n",
    "dataTrain.loc[dataTrain['Dependents'] == '1', 'Dependents'] = 1 # singleton\n",
    "dataTrain.loc[dataTrain['Dependents'] == '2', 'Dependents'] = 2 # small family\n",
    "dataTrain.loc[dataTrain['Dependents'] == '3+', 'Dependents'] = 3 # large family\n",
    "\n",
    "# Ubah Education, Graduate = 1, Not Graduate = 0\n",
    "dataTrain['Education'] = dataTrain['Education'].map({'Graduate':1,'Not Graduate':0})\n",
    "\n",
    "# Ubah Self_Employed, Yes = 1, No = 0\n",
    "dataTrain['Self_Employed'] = dataTrain['Self_Employed'].map({'Yes':1,'No':0})\n",
    "\n",
    "# Tambahkan AplicantIncome dan CoapplicantIncome menjadi Total_Income\n",
    "dataTrain['Total_Income'] = dataTrain['ApplicantIncome'] + dataTrain['CoapplicantIncome']\n",
    "dataTrain.drop(['ApplicantIncome','CoapplicantIncome'], axis=1, inplace=True)\n",
    "\n",
    "# Rasio Total_Income dan LoanAmount menjadi Debt_Income_Ratio\n",
    "dataTrain['Debt_Income_Ratio'] = dataTrain['Total_Income'] / dataTrain['LoanAmount']\n",
    "del dataTrain['Total_Income']\n",
    "del dataTrain['LoanAmount']\n",
    "\n",
    "# Ubah Loan_Amount_Term sesuai kategori\n",
    "dataTrain = dataTrain.assign(Loan_Amount_Term=dataTrain.apply(set_term, axis=1))\n",
    "\n",
    "# Ubah tipe data Credit_History\n",
    "dataTrain.Credit_History = dataTrain.Credit_History.astype(int)\n",
    "\n",
    "# Ubah Property_Area, Rural = 0, Semiurban = 1, Urban = 2\n",
    "dataTrain.loc[dataTrain['Property_Area'] == 'Rural', 'Property_Area'] = 0\n",
    "dataTrain.loc[dataTrain['Property_Area'] == 'Semiurban', 'Property_Area'] = 1\n",
    "dataTrain.loc[dataTrain['Property_Area'] == 'Urban', 'Property_Area'] = 2\n",
    "\n",
    "# Ubah Loan_Status, Y = 1, N = 0\n",
    "dataTrain['Loan_Status'] = dataTrain['Loan_Status'].map({'Y':1,'N':0})\n",
    "\n",
    "# Rapihkan dataFrame\n",
    "cols = list(dataTrain.columns.values)\n",
    "cols.pop(cols.index('Loan_Status'))\n",
    "dataTrain = dataTrain[cols + ['Loan_Status']]"
   ]
  },
  {
   "cell_type": "code",
   "execution_count": 11,
   "metadata": {
    "scrolled": true
   },
   "outputs": [
    {
     "data": {
      "text/html": [
       "<div>\n",
       "<style scoped>\n",
       "    .dataframe tbody tr th:only-of-type {\n",
       "        vertical-align: middle;\n",
       "    }\n",
       "\n",
       "    .dataframe tbody tr th {\n",
       "        vertical-align: top;\n",
       "    }\n",
       "\n",
       "    .dataframe thead th {\n",
       "        text-align: right;\n",
       "    }\n",
       "</style>\n",
       "<table border=\"1\" class=\"dataframe\">\n",
       "  <thead>\n",
       "    <tr style=\"text-align: right;\">\n",
       "      <th></th>\n",
       "      <th>Loan_ID</th>\n",
       "      <th>Gender</th>\n",
       "      <th>Married</th>\n",
       "      <th>Dependents</th>\n",
       "      <th>Education</th>\n",
       "      <th>Self_Employed</th>\n",
       "      <th>Loan_Amount_Term</th>\n",
       "      <th>Credit_History</th>\n",
       "      <th>Property_Area</th>\n",
       "      <th>Debt_Income_Ratio</th>\n",
       "      <th>Loan_Status</th>\n",
       "    </tr>\n",
       "  </thead>\n",
       "  <tbody>\n",
       "    <tr>\n",
       "      <th>0</th>\n",
       "      <td>LP001002</td>\n",
       "      <td>1</td>\n",
       "      <td>0</td>\n",
       "      <td>0</td>\n",
       "      <td>1</td>\n",
       "      <td>0</td>\n",
       "      <td>4</td>\n",
       "      <td>1</td>\n",
       "      <td>2</td>\n",
       "      <td>40.313354</td>\n",
       "      <td>1</td>\n",
       "    </tr>\n",
       "    <tr>\n",
       "      <th>1</th>\n",
       "      <td>LP001003</td>\n",
       "      <td>1</td>\n",
       "      <td>1</td>\n",
       "      <td>1</td>\n",
       "      <td>1</td>\n",
       "      <td>0</td>\n",
       "      <td>4</td>\n",
       "      <td>1</td>\n",
       "      <td>0</td>\n",
       "      <td>47.585938</td>\n",
       "      <td>0</td>\n",
       "    </tr>\n",
       "    <tr>\n",
       "      <th>2</th>\n",
       "      <td>LP001005</td>\n",
       "      <td>1</td>\n",
       "      <td>1</td>\n",
       "      <td>0</td>\n",
       "      <td>1</td>\n",
       "      <td>1</td>\n",
       "      <td>4</td>\n",
       "      <td>1</td>\n",
       "      <td>2</td>\n",
       "      <td>45.454545</td>\n",
       "      <td>1</td>\n",
       "    </tr>\n",
       "    <tr>\n",
       "      <th>3</th>\n",
       "      <td>LP001006</td>\n",
       "      <td>1</td>\n",
       "      <td>1</td>\n",
       "      <td>0</td>\n",
       "      <td>0</td>\n",
       "      <td>0</td>\n",
       "      <td>4</td>\n",
       "      <td>1</td>\n",
       "      <td>2</td>\n",
       "      <td>41.175000</td>\n",
       "      <td>1</td>\n",
       "    </tr>\n",
       "    <tr>\n",
       "      <th>4</th>\n",
       "      <td>LP001008</td>\n",
       "      <td>1</td>\n",
       "      <td>0</td>\n",
       "      <td>0</td>\n",
       "      <td>1</td>\n",
       "      <td>0</td>\n",
       "      <td>4</td>\n",
       "      <td>1</td>\n",
       "      <td>2</td>\n",
       "      <td>42.553191</td>\n",
       "      <td>1</td>\n",
       "    </tr>\n",
       "  </tbody>\n",
       "</table>\n",
       "</div>"
      ],
      "text/plain": [
       "    Loan_ID  Gender  Married  Dependents  Education  Self_Employed  \\\n",
       "0  LP001002       1        0           0          1              0   \n",
       "1  LP001003       1        1           1          1              0   \n",
       "2  LP001005       1        1           0          1              1   \n",
       "3  LP001006       1        1           0          0              0   \n",
       "4  LP001008       1        0           0          1              0   \n",
       "\n",
       "   Loan_Amount_Term  Credit_History  Property_Area  Debt_Income_Ratio  \\\n",
       "0                 4               1              2          40.313354   \n",
       "1                 4               1              0          47.585938   \n",
       "2                 4               1              2          45.454545   \n",
       "3                 4               1              2          41.175000   \n",
       "4                 4               1              2          42.553191   \n",
       "\n",
       "   Loan_Status  \n",
       "0            1  \n",
       "1            0  \n",
       "2            1  \n",
       "3            1  \n",
       "4            1  "
      ]
     },
     "execution_count": 11,
     "metadata": {},
     "output_type": "execute_result"
    }
   ],
   "source": [
    "dataTrain.head()"
   ]
  },
  {
   "cell_type": "code",
   "execution_count": 12,
   "metadata": {},
   "outputs": [],
   "source": [
    "dataFeature = dataTrain.loc[:, 'Gender':'Debt_Income_Ratio']\n",
    "dataTarget = dataTrain.loc[:, 'Loan_Status']"
   ]
  },
  {
   "cell_type": "markdown",
   "metadata": {},
   "source": [
    "<h3>Model Machine Learning</h3>\n",
    "\n",
    "Akan dilakukan klasifikasi dengan <b>Random Forest</b>. Validasi dilakukan dengan Grid Search Cross Validation. Hyperparameter dengan performa yang terbaik akan diuji ke data uji."
   ]
  },
  {
   "cell_type": "code",
   "execution_count": 13,
   "metadata": {},
   "outputs": [],
   "source": [
    "from sklearn.model_selection import cross_val_score, train_test_split, GridSearchCV\n",
    "from sklearn.ensemble import RandomForestClassifier\n",
    "from sklearn.metrics import accuracy_score, classification_report"
   ]
  },
  {
   "cell_type": "code",
   "execution_count": 14,
   "metadata": {},
   "outputs": [],
   "source": [
    "def feature_scaling(df):\n",
    "    df -= df.min()\n",
    "    df /= df.max()\n",
    "    return df\n",
    "\n",
    "dataFeature['Debt_Income_Ratio'] = feature_scaling(dataFeature['Debt_Income_Ratio'])"
   ]
  },
  {
   "cell_type": "code",
   "execution_count": 15,
   "metadata": {},
   "outputs": [
    {
     "name": "stdout",
     "output_type": "stream",
     "text": [
      "Jumlah data latih   :  451\n",
      "Jumlah data uji     :  113\n"
     ]
    }
   ],
   "source": [
    "X = dataFeature.values\n",
    "y = dataTarget.values\n",
    "X_train, X_test, y_train, y_test = train_test_split(X, y, test_size=0.2)\n",
    "print(\"Jumlah data latih   : \", len(X_train))\n",
    "print(\"Jumlah data uji     : \", len(X_test))"
   ]
  },
  {
   "cell_type": "code",
   "execution_count": 16,
   "metadata": {},
   "outputs": [
    {
     "name": "stdout",
     "output_type": "stream",
     "text": [
      "Parameter terbaik:\n",
      "\n",
      "{'n_estimators': 60}\n",
      "\n",
      "Dengan akurasi:\n",
      "\n",
      "0.707 (+/-0.135) untuk {'n_estimators': 1}\n",
      "0.723 (+/-0.138) untuk {'n_estimators': 10}\n",
      "0.752 (+/-0.121) untuk {'n_estimators': 20}\n",
      "0.747 (+/-0.103) untuk {'n_estimators': 30}\n",
      "0.754 (+/-0.075) untuk {'n_estimators': 40}\n",
      "0.758 (+/-0.104) untuk {'n_estimators': 50}\n",
      "0.767 (+/-0.102) untuk {'n_estimators': 60}\n",
      "0.758 (+/-0.140) untuk {'n_estimators': 70}\n",
      "0.763 (+/-0.101) untuk {'n_estimators': 80}\n",
      "0.758 (+/-0.070) untuk {'n_estimators': 90}\n",
      "0.767 (+/-0.097) untuk {'n_estimators': 100}\n"
     ]
    }
   ],
   "source": [
    "parameters = {'n_estimators': [1, 10, 20, 30, 40, 50, 60, 70, 80, 90, 100]}\n",
    "scores = ['accuracy']\n",
    "clf = GridSearchCV(RandomForestClassifier(), parameters, cv=10, scoring='accuracy')\n",
    "for score in scores:                \n",
    "    clf.fit(X_train, y_train)\n",
    "    print(\"Parameter terbaik:\\n\")        \n",
    "    print(clf.best_params_)\n",
    "    print()\n",
    "    print(\"Dengan akurasi:\\n\")        \n",
    "    means = clf.cv_results_['mean_test_score']\n",
    "    stds = clf.cv_results_['std_test_score']\n",
    "    for mean, std, params in zip(means, stds, clf.cv_results_['params']):\n",
    "        print(\"%0.3f (+/-%0.03f) untuk %r\"\n",
    "              % (mean, std * 2, params))"
   ]
  },
  {
   "cell_type": "code",
   "execution_count": 17,
   "metadata": {},
   "outputs": [
    {
     "data": {
      "text/plain": [
       "RandomForestClassifier(bootstrap=True, class_weight=None, criterion='gini',\n",
       "            max_depth=None, max_features='auto', max_leaf_nodes=None,\n",
       "            min_impurity_decrease=0.0, min_impurity_split=None,\n",
       "            min_samples_leaf=1, min_samples_split=2,\n",
       "            min_weight_fraction_leaf=0.0, n_estimators=60, n_jobs=1,\n",
       "            oob_score=False, random_state=None, verbose=0,\n",
       "            warm_start=False)"
      ]
     },
     "execution_count": 17,
     "metadata": {},
     "output_type": "execute_result"
    }
   ],
   "source": [
    "clf = RandomForestClassifier(n_estimators=60)\n",
    "clf.fit(X_train, y_train)"
   ]
  },
  {
   "cell_type": "code",
   "execution_count": 18,
   "metadata": {},
   "outputs": [],
   "source": [
    "features = pd.DataFrame()\n",
    "features['Feature'] = dataFeature.columns\n",
    "features['Importance'] = clf.feature_importances_\n",
    "features.sort_values(by=['Importance'], ascending=False, inplace=True)\n",
    "features.set_index('Feature', inplace=True)"
   ]
  },
  {
   "cell_type": "code",
   "execution_count": 19,
   "metadata": {},
   "outputs": [
    {
     "data": {
      "image/png": "[encoded data removed]",
      "text/plain": [
       "<Figure size 720x288 with 1 Axes>"
      ]
     },
     "metadata": {},
     "output_type": "display_data"
    }
   ],
   "source": [
    "features.plot(kind='bar', figsize=(10, 4))\n",
    "plt.title('Tingkat Kepentingan Fitur')\n",
    "plt.show()"
   ]
  },
  {
   "cell_type": "code",
   "execution_count": 20,
   "metadata": {},
   "outputs": [
    {
     "name": "stdout",
     "output_type": "stream",
     "text": [
      "Klasifikasi model mendapat akurasi: 78.76 %\n"
     ]
    }
   ],
   "source": [
    "y_pred = clf.predict(X_test)\n",
    "acc = accuracy_score(y_pred, y_test) * 100\n",
    "print(\"Klasifikasi model mendapat akurasi: %.2f\" % acc, \"%\")"
   ]
  }
 ],
 "metadata": {
  "kernelspec": {
   "display_name": "Python 3",
   "language": "python",
   "name": "python3"
  },
  "language_info": {
   "codemirror_mode": {
    "name": "ipython",
    "version": 3
   },
   "file_extension": ".py",
   "mimetype": "text/x-python",
   "name": "python",
   "nbconvert_exporter": "python",
   "pygments_lexer": "ipython3",
   "version": "3.6.6"
  }
 },
 "nbformat": 4,
 "nbformat_minor": 2
}
